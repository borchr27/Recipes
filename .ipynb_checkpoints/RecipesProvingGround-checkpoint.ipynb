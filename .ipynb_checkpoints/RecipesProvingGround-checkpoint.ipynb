{
 "cells": [
  {
   "cell_type": "code",
   "execution_count": 23,
   "metadata": {},
   "outputs": [
    {
     "data": {
      "text/html": [
       "<div>\n",
       "<style scoped>\n",
       "    .dataframe tbody tr th:only-of-type {\n",
       "        vertical-align: middle;\n",
       "    }\n",
       "\n",
       "    .dataframe tbody tr th {\n",
       "        vertical-align: top;\n",
       "    }\n",
       "\n",
       "    .dataframe thead th {\n",
       "        text-align: right;\n",
       "    }\n",
       "</style>\n",
       "<table border=\"1\" class=\"dataframe\">\n",
       "  <thead>\n",
       "    <tr style=\"text-align: right;\">\n",
       "      <th></th>\n",
       "      <th>Recipe</th>\n",
       "      <th>Ingredients</th>\n",
       "      <th>Amount</th>\n",
       "    </tr>\n",
       "  </thead>\n",
       "  <tbody>\n",
       "    <tr>\n",
       "      <th>0</th>\n",
       "      <td>Turkey Trot Meatballs</td>\n",
       "      <td>oil olive extra virgin</td>\n",
       "      <td>1 tbsp</td>\n",
       "    </tr>\n",
       "    <tr>\n",
       "      <th>1</th>\n",
       "      <td>Turkey Trot Meatballs</td>\n",
       "      <td>parmesan</td>\n",
       "      <td>0.5 cup</td>\n",
       "    </tr>\n",
       "    <tr>\n",
       "      <th>2</th>\n",
       "      <td>Turkey Trot Meatballs</td>\n",
       "      <td>flour oat or almond</td>\n",
       "      <td>0.5 cup</td>\n",
       "    </tr>\n",
       "    <tr>\n",
       "      <th>3</th>\n",
       "      <td>Turkey Trot Meatballs</td>\n",
       "      <td>parsely</td>\n",
       "      <td>0.25 cup</td>\n",
       "    </tr>\n",
       "    <tr>\n",
       "      <th>4</th>\n",
       "      <td>Turkey Trot Meatballs</td>\n",
       "      <td>garlic powder</td>\n",
       "      <td>0.5 tsp</td>\n",
       "    </tr>\n",
       "  </tbody>\n",
       "</table>\n",
       "</div>"
      ],
      "text/plain": [
       "                  Recipe             Ingredients    Amount\n",
       "0  Turkey Trot Meatballs  oil olive extra virgin    1 tbsp\n",
       "1  Turkey Trot Meatballs                parmesan   0.5 cup\n",
       "2  Turkey Trot Meatballs     flour oat or almond   0.5 cup\n",
       "3  Turkey Trot Meatballs                 parsely  0.25 cup\n",
       "4  Turkey Trot Meatballs           garlic powder   0.5 tsp"
      ]
     },
     "execution_count": 23,
     "metadata": {},
     "output_type": "execute_result"
    }
   ],
   "source": [
    "import pandas as pd\n",
    "\n",
    "file = 'Recipes.xlsx'\n",
    "df = pd.read_excel(file)\n",
    "key = 'chicken'\n",
    "df.head()"
   ]
  },
  {
   "cell_type": "code",
   "execution_count": 24,
   "metadata": {},
   "outputs": [
    {
     "data": {
      "text/plain": [
       "0     False\n",
       "1     False\n",
       "2     False\n",
       "3     False\n",
       "4     False\n",
       "      ...  \n",
       "65    False\n",
       "66    False\n",
       "67    False\n",
       "68    False\n",
       "69    False\n",
       "Name: Ingredients, Length: 70, dtype: bool"
      ]
     },
     "execution_count": 24,
     "metadata": {},
     "output_type": "execute_result"
    }
   ],
   "source": [
    "df_2 = df.Ingredients.str.contains('chicken')\n",
    "df[df_2]"
   ]
  },
  {
   "cell_type": "code",
   "execution_count": null,
   "metadata": {},
   "outputs": [],
   "source": []
  }
 ],
 "metadata": {
  "kernelspec": {
   "display_name": "Python 3",
   "language": "python",
   "name": "python3"
  },
  "language_info": {
   "codemirror_mode": {
    "name": "ipython",
    "version": 3
   },
   "file_extension": ".py",
   "mimetype": "text/x-python",
   "name": "python",
   "nbconvert_exporter": "python",
   "pygments_lexer": "ipython3",
   "version": "3.7.5"
  }
 },
 "nbformat": 4,
 "nbformat_minor": 2
}
