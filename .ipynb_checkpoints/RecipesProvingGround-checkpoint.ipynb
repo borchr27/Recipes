{
 "cells": [
  {
   "cell_type": "code",
   "execution_count": 24,
   "metadata": {},
   "outputs": [],
   "source": [
    "import pandas as pd\n",
    "import numpy as np\n",
    "\n",
    "recipe_file = 'Recipes.xlsx'\n",
    "directions_file = 'Directions.xlsx'\n",
    "\n",
    "df_ingredients = pd.read_excel(file)\n",
    "#df_ingredients.head(20)\n",
    "\n",
    "df_directions = pd.read_excel(directions_file)\n",
    "#df_directions.head(20)\n"
   ]
  },
  {
   "cell_type": "code",
   "execution_count": 25,
   "metadata": {},
   "outputs": [
    {
     "data": {
      "text/html": [
       "<div>\n",
       "<style scoped>\n",
       "    .dataframe tbody tr th:only-of-type {\n",
       "        vertical-align: middle;\n",
       "    }\n",
       "\n",
       "    .dataframe tbody tr th {\n",
       "        vertical-align: top;\n",
       "    }\n",
       "\n",
       "    .dataframe thead th {\n",
       "        text-align: right;\n",
       "    }\n",
       "</style>\n",
       "<table border=\"1\" class=\"dataframe\">\n",
       "  <thead>\n",
       "    <tr style=\"text-align: right;\">\n",
       "      <th></th>\n",
       "      <th>Recipe</th>\n",
       "      <th>Ingredients</th>\n",
       "      <th>Amount</th>\n",
       "    </tr>\n",
       "  </thead>\n",
       "  <tbody>\n",
       "    <tr>\n",
       "      <th>0</th>\n",
       "      <td>Turkey Trot Meatballs</td>\n",
       "      <td>oil olive extra virgin</td>\n",
       "      <td>1 tbsp</td>\n",
       "    </tr>\n",
       "    <tr>\n",
       "      <th>1</th>\n",
       "      <td>Turkey Trot Meatballs</td>\n",
       "      <td>parmesan</td>\n",
       "      <td>0.5 cup</td>\n",
       "    </tr>\n",
       "    <tr>\n",
       "      <th>2</th>\n",
       "      <td>Turkey Trot Meatballs</td>\n",
       "      <td>flour oat or almond</td>\n",
       "      <td>0.5 cup</td>\n",
       "    </tr>\n",
       "    <tr>\n",
       "      <th>3</th>\n",
       "      <td>Turkey Trot Meatballs</td>\n",
       "      <td>parsely</td>\n",
       "      <td>0.25 cup</td>\n",
       "    </tr>\n",
       "    <tr>\n",
       "      <th>4</th>\n",
       "      <td>Turkey Trot Meatballs</td>\n",
       "      <td>garlic powder</td>\n",
       "      <td>0.5 tsp</td>\n",
       "    </tr>\n",
       "    <tr>\n",
       "      <th>5</th>\n",
       "      <td>Turkey Trot Meatballs</td>\n",
       "      <td>salt</td>\n",
       "      <td>0.5 tsp</td>\n",
       "    </tr>\n",
       "    <tr>\n",
       "      <th>6</th>\n",
       "      <td>Turkey Trot Meatballs</td>\n",
       "      <td>black pepper</td>\n",
       "      <td>0.25 tsp</td>\n",
       "    </tr>\n",
       "    <tr>\n",
       "      <th>7</th>\n",
       "      <td>Turkey Trot Meatballs</td>\n",
       "      <td>turkey ground</td>\n",
       "      <td>1 lb</td>\n",
       "    </tr>\n",
       "    <tr>\n",
       "      <th>8</th>\n",
       "      <td>Turkey Trot Meatballs</td>\n",
       "      <td>egg</td>\n",
       "      <td>1 qty</td>\n",
       "    </tr>\n",
       "  </tbody>\n",
       "</table>\n",
       "</div>"
      ],
      "text/plain": [
       "                  Recipe             Ingredients    Amount\n",
       "0  Turkey Trot Meatballs  oil olive extra virgin    1 tbsp\n",
       "1  Turkey Trot Meatballs                parmesan   0.5 cup\n",
       "2  Turkey Trot Meatballs     flour oat or almond   0.5 cup\n",
       "3  Turkey Trot Meatballs                 parsely  0.25 cup\n",
       "4  Turkey Trot Meatballs           garlic powder   0.5 tsp\n",
       "5  Turkey Trot Meatballs                    salt   0.5 tsp\n",
       "6  Turkey Trot Meatballs            black pepper  0.25 tsp\n",
       "7  Turkey Trot Meatballs           turkey ground      1 lb\n",
       "8  Turkey Trot Meatballs                     egg     1 qty"
      ]
     },
     "execution_count": 25,
     "metadata": {},
     "output_type": "execute_result"
    }
   ],
   "source": [
    "df_2 = df_ingredients.Recipe.str.contains('Meatballs')\n",
    "df_ingredients[df_2]"
   ]
  },
  {
   "cell_type": "code",
   "execution_count": 26,
   "metadata": {},
   "outputs": [
    {
     "data": {
      "text/html": [
       "<div>\n",
       "<style scoped>\n",
       "    .dataframe tbody tr th:only-of-type {\n",
       "        vertical-align: middle;\n",
       "    }\n",
       "\n",
       "    .dataframe tbody tr th {\n",
       "        vertical-align: top;\n",
       "    }\n",
       "\n",
       "    .dataframe thead th {\n",
       "        text-align: right;\n",
       "    }\n",
       "</style>\n",
       "<table border=\"1\" class=\"dataframe\">\n",
       "  <thead>\n",
       "    <tr style=\"text-align: right;\">\n",
       "      <th></th>\n",
       "      <th>Recipe</th>\n",
       "      <th>Source</th>\n",
       "      <th>Directions</th>\n",
       "    </tr>\n",
       "  </thead>\n",
       "  <tbody>\n",
       "    <tr>\n",
       "      <th>7</th>\n",
       "      <td>Turkey Trot Meatballs</td>\n",
       "      <td>Shalane Flanagan</td>\n",
       "      <td>Oven to 400F, baking sheet with parchment pape...</td>\n",
       "    </tr>\n",
       "  </tbody>\n",
       "</table>\n",
       "</div>"
      ],
      "text/plain": [
       "                  Recipe            Source  \\\n",
       "7  Turkey Trot Meatballs  Shalane Flanagan   \n",
       "\n",
       "                                          Directions  \n",
       "7  Oven to 400F, baking sheet with parchment pape...  "
      ]
     },
     "execution_count": 26,
     "metadata": {},
     "output_type": "execute_result"
    }
   ],
   "source": [
    "df_3 = df_directions.Recipe.str.contains('Meatballs')\n",
    "df_directions[df_3]"
   ]
  },
  {
   "cell_type": "code",
   "execution_count": 31,
   "metadata": {},
   "outputs": [
    {
     "name": "stdout",
     "output_type": "stream",
     "text": [
      "0      False\n",
      "1      False\n",
      "2      False\n",
      "3      False\n",
      "4      False\n",
      "       ...  \n",
      "118    False\n",
      "119    False\n",
      "120     True\n",
      "121    False\n",
      "122    False\n",
      "Name: Ingredients, Length: 123, dtype: bool\n"
     ]
    }
   ],
   "source": [
    "df_5 = df_ingredients.Ingredients.str.contains('parsley')\n",
    "df_6 = df_ingredients.Ingredients.str.contains('salt')\n",
    "\n",
    "print(df_ingredients[df_6])\n",
    "\n"
   ]
  },
  {
   "cell_type": "code",
   "execution_count": null,
   "metadata": {},
   "outputs": [],
   "source": []
  }
 ],
 "metadata": {
  "kernelspec": {
   "display_name": "Python 3",
   "language": "python",
   "name": "python3"
  },
  "language_info": {
   "codemirror_mode": {
    "name": "ipython",
    "version": 3
   },
   "file_extension": ".py",
   "mimetype": "text/x-python",
   "name": "python",
   "nbconvert_exporter": "python",
   "pygments_lexer": "ipython3",
   "version": "3.7.5"
  }
 },
 "nbformat": 4,
 "nbformat_minor": 2
}
